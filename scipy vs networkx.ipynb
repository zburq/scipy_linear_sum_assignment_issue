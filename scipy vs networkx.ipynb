{
 "cells": [
  {
   "cell_type": "code",
   "execution_count": 1,
   "metadata": {},
   "outputs": [],
   "source": [
    "import numpy as np, pandas as pd\n",
    "\n",
    "# scipy\n",
    "import scipy\n",
    "from scipy.stats import rankdata\n",
    "from scipy.spatial.distance import euclidean\n",
    "\n",
    "# networkx\n",
    "import networkx as nx\n",
    "\n",
    "from collections import Counter \n",
    "\n",
    "import matplotlib.pyplot as plt"
   ]
  },
  {
   "cell_type": "code",
   "execution_count": 2,
   "metadata": {},
   "outputs": [
    {
     "data": {
      "text/plain": [
       "('1.7.1', '2.6.3')"
      ]
     },
     "execution_count": 2,
     "metadata": {},
     "output_type": "execute_result"
    }
   ],
   "source": [
    "scipy.__version__, nx.__version__"
   ]
  },
  {
   "cell_type": "markdown",
   "metadata": {},
   "source": [
    "# A 2-dim random sample"
   ]
  },
  {
   "cell_type": "code",
   "execution_count": 3,
   "metadata": {},
   "outputs": [],
   "source": [
    "n = 100"
   ]
  },
  {
   "cell_type": "markdown",
   "metadata": {},
   "source": [
    "## Bivariate Normal"
   ]
  },
  {
   "cell_type": "code",
   "execution_count": 4,
   "metadata": {},
   "outputs": [],
   "source": [
    "mean = [0,0] \n",
    "cov = [[1, 0], [0, 1]]\n",
    "normal_sample = np.random.multivariate_normal(mean, cov, n)"
   ]
  },
  {
   "cell_type": "markdown",
   "metadata": {},
   "source": [
    "## Bivariate Uniform"
   ]
  },
  {
   "cell_type": "code",
   "execution_count": 5,
   "metadata": {},
   "outputs": [],
   "source": [
    "xy_min = [0, 0]\n",
    "xy_max = [10, 10]\n",
    "uniform_sample = np.random.uniform(low=xy_min, high=xy_max, size=(n,2))"
   ]
  },
  {
   "cell_type": "code",
   "execution_count": 6,
   "metadata": {},
   "outputs": [
    {
     "data": {
      "text/plain": [
       "<matplotlib.collections.PathCollection at 0x7fd658e5a760>"
      ]
     },
     "execution_count": 6,
     "metadata": {},
     "output_type": "execute_result"
    },
    {
     "data": {
      "image/png": "[encoded data removed]",
      "text/plain": [
       "<Figure size 576x576 with 1 Axes>"
      ]
     },
     "metadata": {
      "needs_background": "light"
     },
     "output_type": "display_data"
    }
   ],
   "source": [
    "sample = uniform_sample\n",
    "plt.rcParams[\"figure.figsize\"] = (8,8)\n",
    "plt.scatter(sample[:,0], sample[:,1])"
   ]
  },
  {
   "cell_type": "code",
   "execution_count": 7,
   "metadata": {},
   "outputs": [
    {
     "data": {
      "text/plain": [
       "array([[ 0.        ,  5.04559427,  8.5331643 , ...,  2.75005893,\n",
       "        11.11869295,  5.78847231],\n",
       "       [ 5.04559427,  0.        ,  6.43310977, ...,  3.21016663,\n",
       "         6.406202  ,  2.85829974],\n",
       "       [ 8.5331643 ,  6.43310977,  0.        , ...,  8.67392948,\n",
       "         6.10809212,  9.28376403],\n",
       "       ...,\n",
       "       [ 2.75005893,  3.21016663,  8.67392948, ...,  0.        ,\n",
       "         9.61556425,  3.06218684],\n",
       "       [11.11869295,  6.406202  ,  6.10809212, ...,  9.61556425,\n",
       "         0.        ,  8.15391485],\n",
       "       [ 5.78847231,  2.85829974,  9.28376403, ...,  3.06218684,\n",
       "         8.15391485,  0.        ]])"
      ]
     },
     "execution_count": 7,
     "metadata": {},
     "output_type": "execute_result"
    }
   ],
   "source": [
    "distance_matrix = np.zeros([n, n])\n",
    "\n",
    "for j in range(n):\n",
    "    for i in range(n):\n",
    "        distance_matrix[i,j] = (euclidean(sample[i], sample[j]))\n",
    "\n",
    "distance_matrix"
   ]
  },
  {
   "cell_type": "code",
   "execution_count": 8,
   "metadata": {},
   "outputs": [],
   "source": [
    "# Replace diagonal with a large number to prevent trivial matching\n",
    "M = np.max(distance_matrix)\n",
    "np.fill_diagonal(distance_matrix, 2 * M)"
   ]
  },
  {
   "cell_type": "code",
   "execution_count": 9,
   "metadata": {},
   "outputs": [
    {
     "data": {
      "text/plain": [
       "array([[26.01532407,  5.04559427,  8.5331643 ,  3.29514063,  4.66879178],\n",
       "       [ 5.04559427, 26.01532407,  6.43310977,  2.06977769,  2.49244003],\n",
       "       [ 8.5331643 ,  6.43310977, 26.01532407,  7.69504516,  8.83881135],\n",
       "       [ 3.29514063,  2.06977769,  7.69504516, 26.01532407,  1.66735211],\n",
       "       [ 4.66879178,  2.49244003,  8.83881135,  1.66735211, 26.01532407]])"
      ]
     },
     "execution_count": 9,
     "metadata": {},
     "output_type": "execute_result"
    }
   ],
   "source": [
    "distance_matrix[:5,:5]"
   ]
  },
  {
   "cell_type": "markdown",
   "metadata": {},
   "source": [
    "# SciPy"
   ]
  },
  {
   "cell_type": "markdown",
   "metadata": {},
   "source": [
    "# A minimum distance non-bipartite matching on `sample`  \n",
    "\n",
    "Equivalently, a linear sum assignment between `sample` and `sample`.  \n",
    "\n",
    "To prevent a trivial matching (each element matching with itself), I have replaced the diagonal zeros with a large number."
   ]
  },
  {
   "cell_type": "markdown",
   "metadata": {},
   "source": [
    "## Timing `SciPy`"
   ]
  },
  {
   "cell_type": "code",
   "execution_count": 10,
   "metadata": {},
   "outputs": [
    {
     "name": "stdout",
     "output_type": "stream",
     "text": [
      "CPU times: user 260 µs, sys: 32 µs, total: 292 µs\n",
      "Wall time: 273 µs\n"
     ]
    }
   ],
   "source": [
    "%%time\n",
    "# scipy.optimize.linear_sum_assignment\n",
    "\n",
    "row, col = scipy.optimize.linear_sum_assignment(distance_matrix, maximize=False)\n",
    "scipy_matching = np.concatenate([[row], [col]]).T.tolist()"
   ]
  },
  {
   "cell_type": "code",
   "execution_count": 11,
   "metadata": {},
   "outputs": [
    {
     "data": {
      "text/plain": [
       "[[0, 18],\n",
       " [1, 48],\n",
       " [2, 70],\n",
       " [3, 42],\n",
       " [4, 92],\n",
       " [5, 14],\n",
       " [6, 35],\n",
       " [7, 30],\n",
       " [8, 71],\n",
       " [9, 96],\n",
       " [10, 29],\n",
       " [11, 20],\n",
       " [12, 62],\n",
       " [13, 31],\n",
       " [14, 57],\n",
       " [15, 95],\n",
       " [16, 34],\n",
       " [17, 72],\n",
       " [18, 0],\n",
       " [19, 44],\n",
       " [20, 11],\n",
       " [21, 79],\n",
       " [22, 37],\n",
       " [23, 36],\n",
       " [24, 76],\n",
       " [25, 10],\n",
       " [26, 53],\n",
       " [27, 17],\n",
       " [28, 38],\n",
       " [29, 25],\n",
       " [30, 7],\n",
       " [31, 13],\n",
       " [32, 80],\n",
       " [33, 55],\n",
       " [34, 16],\n",
       " [35, 6],\n",
       " [36, 23],\n",
       " [37, 54],\n",
       " [38, 28],\n",
       " [39, 43],\n",
       " [40, 45],\n",
       " [41, 46],\n",
       " [42, 3],\n",
       " [43, 39],\n",
       " [44, 19],\n",
       " [45, 40],\n",
       " [46, 41],\n",
       " [47, 94],\n",
       " [48, 81],\n",
       " [49, 77],\n",
       " [50, 75],\n",
       " [51, 56],\n",
       " [52, 65],\n",
       " [53, 26],\n",
       " [54, 66],\n",
       " [55, 33],\n",
       " [56, 51],\n",
       " [57, 5],\n",
       " [58, 91],\n",
       " [59, 9],\n",
       " [60, 90],\n",
       " [61, 93],\n",
       " [62, 68],\n",
       " [63, 85],\n",
       " [64, 83],\n",
       " [65, 52],\n",
       " [66, 69],\n",
       " [67, 74],\n",
       " [68, 12],\n",
       " [69, 22],\n",
       " [70, 2],\n",
       " [71, 8],\n",
       " [72, 27],\n",
       " [73, 82],\n",
       " [74, 67],\n",
       " [75, 84],\n",
       " [76, 24],\n",
       " [77, 49],\n",
       " [78, 99],\n",
       " [79, 21],\n",
       " [80, 97],\n",
       " [81, 1],\n",
       " [82, 73],\n",
       " [83, 64],\n",
       " [84, 50],\n",
       " [85, 63],\n",
       " [86, 98],\n",
       " [87, 88],\n",
       " [88, 87],\n",
       " [89, 61],\n",
       " [90, 60],\n",
       " [91, 58],\n",
       " [92, 4],\n",
       " [93, 89],\n",
       " [94, 47],\n",
       " [95, 15],\n",
       " [96, 59],\n",
       " [97, 32],\n",
       " [98, 86],\n",
       " [99, 78]]"
      ]
     },
     "execution_count": 11,
     "metadata": {},
     "output_type": "execute_result"
    }
   ],
   "source": [
    "scipy_matching"
   ]
  },
  {
   "cell_type": "markdown",
   "metadata": {},
   "source": [
    "In most cases, the matching is symmetric - i.e., if `sample[i]` matches with `sample[j]`, then `sample[j]` matches with `sample[i]`. \n",
    "\n",
    "But in some cases, the matchings form triangles or polygons:"
   ]
  },
  {
   "cell_type": "markdown",
   "metadata": {},
   "source": [
    "# Finding polygons"
   ]
  },
  {
   "cell_type": "code",
   "execution_count": 12,
   "metadata": {},
   "outputs": [],
   "source": [
    "sorted_matching = sorted([sorted(i) for i in scipy_matching], key = lambda x: x[0])\n",
    "count = Counter([tuple(i) for i in sorted_matching])\n",
    "polygons = [list(t) for t in count if count[t] < 2]"
   ]
  },
  {
   "cell_type": "code",
   "execution_count": 13,
   "metadata": {},
   "outputs": [
    {
     "data": {
      "image/png": "[encoded data removed]",
      "text/plain": [
       "<Figure size 576x576 with 1 Axes>"
      ]
     },
     "metadata": {
      "needs_background": "light"
     },
     "output_type": "display_data"
    }
   ],
   "source": [
    "fig1, ax1 = plt.subplots()\n",
    "\n",
    "plt.rcParams[\"figure.figsize\"] = (8,8)\n",
    "\n",
    "ax1.set_title('SciPy Matching')\n",
    "\n",
    "for i in np.unique(sorted_matching, axis = 0):\n",
    "    ax1.plot(* sample[i].T, c = 'b', linestyle='dotted')\n",
    "    \n",
    "for i in polygons:\n",
    "    ax1.plot(* sample[i].T, c = 'k', linestyle='solid')\n",
    "\n",
    "for p in sample:\n",
    "    ax1.plot(* p.T, marker = 'o', c = 'r')\n",
    "    \n",
    "plt.show()"
   ]
  },
  {
   "cell_type": "markdown",
   "metadata": {},
   "source": [
    "# networkx"
   ]
  },
  {
   "cell_type": "code",
   "execution_count": 14,
   "metadata": {},
   "outputs": [],
   "source": [
    "weighted_edges = []\n",
    "for i in range(len(distance_matrix)):\n",
    "    for j in range(len(distance_matrix)):\n",
    "        if i < j:\n",
    "            weighted_edges.append( (i, j, distance_matrix[i,j]) )\n",
    "        else:\n",
    "            pass"
   ]
  },
  {
   "cell_type": "code",
   "execution_count": 15,
   "metadata": {},
   "outputs": [],
   "source": [
    "G = nx.Graph()\n",
    "G.add_nodes_from(np.arange(18))\n",
    "G.add_weighted_edges_from(weighted_edges)"
   ]
  },
  {
   "cell_type": "markdown",
   "metadata": {},
   "source": [
    "## Timing `networkx`"
   ]
  },
  {
   "cell_type": "code",
   "execution_count": 16,
   "metadata": {},
   "outputs": [
    {
     "name": "stdout",
     "output_type": "stream",
     "text": [
      "CPU times: user 805 ms, sys: 3.15 ms, total: 808 ms\n",
      "Wall time: 808 ms\n"
     ]
    }
   ],
   "source": [
    "%%time\n",
    "nx_matching = nx.algorithms.matching.min_weight_matching(G, maxcardinality=True)\n",
    "nx_matching = [ list(p) for p in nx_matching ]"
   ]
  },
  {
   "cell_type": "code",
   "execution_count": 17,
   "metadata": {},
   "outputs": [],
   "source": [
    "nx_sorted_matching = sorted([sorted(i) for i in nx_matching], key = lambda x: x[0])\n",
    "nx_count = Counter([tuple(i) for i in nx_sorted_matching])"
   ]
  },
  {
   "cell_type": "code",
   "execution_count": 18,
   "metadata": {},
   "outputs": [
    {
     "data": {
      "text/plain": [
       "[[0, 18],\n",
       " [1, 36],\n",
       " [2, 70],\n",
       " [3, 42],\n",
       " [4, 92],\n",
       " [5, 57],\n",
       " [6, 31],\n",
       " [7, 30],\n",
       " [8, 85],\n",
       " [9, 59],\n",
       " [10, 14],\n",
       " [11, 61],\n",
       " [12, 68],\n",
       " [13, 46],\n",
       " [15, 95],\n",
       " [16, 34],\n",
       " [17, 72],\n",
       " [19, 44],\n",
       " [20, 67],\n",
       " [21, 79],\n",
       " [22, 69],\n",
       " [23, 63],\n",
       " [24, 76],\n",
       " [25, 29],\n",
       " [26, 53],\n",
       " [27, 90],\n",
       " [28, 38],\n",
       " [32, 84],\n",
       " [33, 55],\n",
       " [35, 71],\n",
       " [37, 62],\n",
       " [39, 43],\n",
       " [40, 45],\n",
       " [41, 86],\n",
       " [47, 94],\n",
       " [48, 81],\n",
       " [49, 77],\n",
       " [50, 75],\n",
       " [51, 56],\n",
       " [52, 65],\n",
       " [54, 66],\n",
       " [58, 91],\n",
       " [60, 96],\n",
       " [64, 83],\n",
       " [73, 82],\n",
       " [74, 98],\n",
       " [78, 99],\n",
       " [80, 97],\n",
       " [87, 88],\n",
       " [89, 93]]"
      ]
     },
     "execution_count": 18,
     "metadata": {},
     "output_type": "execute_result"
    }
   ],
   "source": [
    "nx_sorted_matching"
   ]
  },
  {
   "cell_type": "markdown",
   "metadata": {},
   "source": [
    "## There are no cycles with more than 3 nodes."
   ]
  },
  {
   "cell_type": "code",
   "execution_count": 19,
   "metadata": {},
   "outputs": [
    {
     "data": {
      "text/plain": [
       "(50, 100)"
      ]
     },
     "execution_count": 19,
     "metadata": {},
     "output_type": "execute_result"
    }
   ],
   "source": [
    "# Each node appears on exactly one edge, each edge has exactly two nodes, and all nodes are used up\n",
    "len(nx_sorted_matching), len(set(np.concatenate(nx_sorted_matching)))"
   ]
  },
  {
   "cell_type": "code",
   "execution_count": 20,
   "metadata": {},
   "outputs": [
    {
     "data": {
      "image/png": "[encoded data removed]",
      "text/plain": [
       "<Figure size 576x576 with 1 Axes>"
      ]
     },
     "metadata": {
      "needs_background": "light"
     },
     "output_type": "display_data"
    }
   ],
   "source": [
    "\n",
    "fig2, ax2 = plt.subplots()\n",
    "\n",
    "plt.rcParams[\"figure.figsize\"] = (8,8)\n",
    "\n",
    "ax2.set_title('networkx Matching')\n",
    "\n",
    "for i in nx_matching:\n",
    "    ax2.plot(* sample[i].T, c = 'b', linestyle='dotted')\n",
    "    \n",
    "for p in sample:\n",
    "    ax2.plot(* p.T, marker = 'o', c = 'r')\n",
    "    \n",
    "plt.show()"
   ]
  },
  {
   "cell_type": "code",
   "execution_count": null,
   "metadata": {},
   "outputs": [],
   "source": []
  },
  {
   "cell_type": "code",
   "execution_count": null,
   "metadata": {},
   "outputs": [],
   "source": []
  }
 ],
 "metadata": {
  "kernelspec": {
   "display_name": "Python 3 (ipykernel)",
   "language": "python",
   "name": "python3"
  },
  "language_info": {
   "codemirror_mode": {
    "name": "ipython",
    "version": 3
   },
   "file_extension": ".py",
   "mimetype": "text/x-python",
   "name": "python",
   "nbconvert_exporter": "python",
   "pygments_lexer": "ipython3",
   "version": "3.9.7"
  }
 },
 "nbformat": 4,
 "nbformat_minor": 2
}
